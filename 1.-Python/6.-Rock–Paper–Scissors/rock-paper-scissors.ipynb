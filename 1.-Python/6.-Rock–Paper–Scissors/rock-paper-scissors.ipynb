{
 "cells": [
  {
   "cell_type": "markdown",
   "metadata": {},
   "source": [
    "<img src=\"https://bit.ly/2VnXWr2\" width=\"100\" align=\"left\">"
   ]
  },
  {
   "cell_type": "markdown",
   "metadata": {},
   "source": [
    "# Rock, Paper & Scissors\n",
    "\n",
    "Let's play the famous game against our computer. You can check the rules [here](https://en.wikipedia.org/wiki/Rock%E2%80%93paper%E2%80%93scissors). \n",
    "\n",
    "## Task\n",
    "Create a program that imitates the playability of the well known game of rock, paper, scissors. Follow the guidelines provided.\n",
    "\n",
    "## Tools\n",
    "1. Loop: **for/while**\n",
    "2. Functions: **input(), print()...**\n",
    "3. Conditional statements: **if, elif, else**\n",
    "4. Definition of functions. Modular programming\n",
    "5. Import modules\n",
    "\n",
    "**To solve this challenge, the use of functions is recommended.**\n",
    "\n",
    "#### 1. Import the choice function of the random module."
   ]
  },
  {
   "cell_type": "code",
   "execution_count": 27,
   "metadata": {},
   "outputs": [],
   "source": [
    "from random import choice"
   ]
  },
  {
   "cell_type": "markdown",
   "metadata": {},
   "source": [
    "#### 2. Create a list that includes the 3 possible gesture options of the game: 'rock', 'paper' or 'scissors'. Store the list in a variable called `gestures`."
   ]
  },
  {
   "cell_type": "code",
   "execution_count": 28,
   "metadata": {},
   "outputs": [],
   "source": [
    "gestures = ['rock', 'paper', 'scissors']"
   ]
  },
  {
   "cell_type": "markdown",
   "metadata": {},
   "source": [
    "#### 3. Create a variable called `n_rounds` to store the maximum number of rounds to play in a game. \n",
    "Remember that the number of rounds must be odd: 1, 3, 5, ..."
   ]
  },
  {
   "cell_type": "code",
   "execution_count": 29,
   "metadata": {},
   "outputs": [],
   "source": [
    "n_rounds = 3"
   ]
  },
  {
   "cell_type": "markdown",
   "metadata": {},
   "source": [
    "#### 4. Create a variable called `rounds_to_win` to store the number of rounds that a player must win to win the game.\n",
    "**Hint**: the value stored in `rounds_to_win` depends on the value of `n_rounds`. "
   ]
  },
  {
   "cell_type": "code",
   "execution_count": 30,
   "metadata": {},
   "outputs": [],
   "source": [
    "rounds_to_win = 2"
   ]
  },
  {
   "cell_type": "markdown",
   "metadata": {},
   "source": [
    "#### 5. Create two variables to store the number of rounds that the computer and the player have won. Call these variables `cpu_score` and `player_score`."
   ]
  },
  {
   "cell_type": "code",
   "execution_count": 43,
   "metadata": {},
   "outputs": [],
   "source": [
    "cpu_score = 0\n",
    "player_score = 0"
   ]
  },
  {
   "cell_type": "markdown",
   "metadata": {},
   "source": [
    "#### 6. Define a function that randomly returns one of the 3 gesture options.\n",
    "You will use this function to simulate the gesture choice of the computer. "
   ]
  },
  {
   "cell_type": "code",
   "execution_count": 32,
   "metadata": {},
   "outputs": [],
   "source": [
    "cpu_input = choice(gestures)"
   ]
  },
  {
   "cell_type": "markdown",
   "metadata": {},
   "source": [
    "#### 7. Define a function that asks the player which is the gesture he or she wants to show: 'rock', 'paper' or 'scissors'.\n",
    "The player should only be allowed to choose one of the 3 gesture options. If the player's choice is not rock, paper or scissors, keep asking until it is."
   ]
  },
  {
   "cell_type": "code",
   "execution_count": 33,
   "metadata": {},
   "outputs": [
    {
     "name": "stdout",
     "output_type": "stream",
     "text": [
      "Please input rock, paper or scissors: paper\n",
      "paper\n"
     ]
    }
   ],
   "source": [
    "player_input = None\n",
    "\n",
    "while True:\n",
    "    player_input = input(\"Please input rock, paper or scissors: \")\n",
    "    if player_input in gestures:\n",
    "        print(player_input)\n",
    "        break\n",
    "    else:\n",
    "        print('Invalid input, try again')\n"
   ]
  },
  {
   "cell_type": "markdown",
   "metadata": {},
   "source": [
    "#### 8. Define a function that checks who won a round. \n",
    "The function should return 0 if there is a tie, 1 if the computer wins and 2 if the player wins."
   ]
  },
  {
   "cell_type": "code",
   "execution_count": 34,
   "metadata": {},
   "outputs": [
    {
     "name": "stdout",
     "output_type": "stream",
     "text": [
      "1\n"
     ]
    }
   ],
   "source": [
    "if player_input == 'rock' and cpu_input == 'scissors':\n",
    "    print('2')\n",
    "elif player_input == 'scissors' and cpu_input == 'paper':\n",
    "    print('2')\n",
    "elif player_input == 'paper' and cpu_input == 'rock':\n",
    "    print('2')\n",
    "elif player_input == cpu_input:\n",
    "    print('0')\n",
    "else :\n",
    "    print('1')"
   ]
  },
  {
   "cell_type": "markdown",
   "metadata": {},
   "source": [
    "#### 9. Define a function that prints the choice of the computer, the choice of the player and a message that announces who won the current round. \n",
    "You should also use this function to update the variables that count the number of rounds that the computer and the player have won. The score of the winner increases by one point. If there is a tie, the score does not increase."
   ]
  },
  {
   "cell_type": "code",
   "execution_count": 35,
   "metadata": {},
   "outputs": [
    {
     "name": "stdout",
     "output_type": "stream",
     "text": [
      "User chooses : paper\n",
      "CPU chooses : scissors\n",
      "CPU won!\n"
     ]
    }
   ],
   "source": [
    "print('User chooses :',player_input)\n",
    "print('CPU chooses :',cpu_input)\n",
    "\n",
    "if player_input == 'rock' and cpu_input == 'scissors':\n",
    "    print('User won!')\n",
    "elif uplayer_input == 'scissors' and cpu_input == 'paper':\n",
    "    print('User won!')\n",
    "elif player_input == 'paper' and cpu_input == 'rock':\n",
    "    print('User won!')\n",
    "elif player_input == cpu_input:\n",
    "    print('It is a tie!')\n",
    "else :\n",
    "    print('CPU won!')"
   ]
  },
  {
   "cell_type": "markdown",
   "metadata": {},
   "source": [
    "#### 10. Now it's time to code the execution of the game using the functions and variables you defined above. \n",
    "\n",
    "First, create a loop structure that repeats while no player reaches the minimum score necessary to win and the number of rounds is less than the maximum number of rounds to play in a game.  \n",
    "\n",
    "Inside the loop, use the functions and variables above to create the execution of a round: ask for the player's choice, generate the random choice of the computer, show the round results, update the scores, etc. "
   ]
  },
  {
   "cell_type": "code",
   "execution_count": 46,
   "metadata": {},
   "outputs": [
    {
     "name": "stdout",
     "output_type": "stream",
     "text": [
      "Please input rock, paper or scissors: paper\n",
      "Invalid input, try again\n",
      "player chooses : None\n",
      "CPU chooses : rock\n",
      "CPU won the play!\n",
      "User score : 0\n",
      "CPU score : 1\n",
      "the game continues\n",
      "Please input rock, paper or scissors: paper\n",
      "Invalid input, try again\n",
      "player chooses : None\n",
      "CPU chooses : rock\n",
      "CPU won the play!\n",
      "User score : 0\n",
      "CPU score : 2\n",
      "CPU won the game!\n"
     ]
    }
   ],
   "source": [
    "   cpu_score = 0\n",
    "    player_score = 0\n",
    "    player_input = None\n",
    "    while True:\n",
    "        player_input = input(\"Please input rock, paper or scissors: \")\n",
    "        if player_input in gestures:\n",
    "            print('Valid choice')\n",
    "        else:\n",
    "            print('Invalid input, try again')\n",
    "        \n",
    "        cpu_input = choice(gestures)\n",
    "    \n",
    "        print('player chooses :',player_input)\n",
    "        print('CPU chooses :',cpu_input)\n",
    "    \n",
    "        if player_input == 'rock' and cpu_input == 'scissors':\n",
    "            player_score += 1\n",
    "            print('User won the play!')\n",
    "        elif player_input == 'scissors' and cpu_input == 'paper':\n",
    "            player_score += 1\n",
    "            print('User won the play!')\n",
    "        elif player_input == 'paper' and cpu_input == 'rock':\n",
    "            player_score += 1\n",
    "            print('User won the play!')\n",
    "        elif player_input == cpu_input:\n",
    "            player_score += 0\n",
    "            print('it is a tie')\n",
    "        else :\n",
    "            cpu_score += 1\n",
    "            print('CPU won the play!')\n",
    "\n",
    "        print('User score :',player_score)\n",
    "        print('CPU score :',cpu_score)\n",
    "        \n",
    "        if player_score == 2 :\n",
    "            print('User won the game!')\n",
    "            break\n",
    "        if cpu_score == 2 :\n",
    "            print('CPU won the game!')\n",
    "            break\n",
    "        else:\n",
    "            print('the game continues')"
   ]
  },
  {
   "cell_type": "markdown",
   "metadata": {},
   "source": [
    "#### 11. Print the winner of the game based on who won more rounds.\n",
    "Remember that the game might be tied. "
   ]
  },
  {
   "cell_type": "code",
   "execution_count": 53,
   "metadata": {},
   "outputs": [
    {
     "name": "stdout",
     "output_type": "stream",
     "text": [
      "Please input rock, paper or scissors: paper\n",
      "Valid choice\n",
      "player chooses : paper\n",
      "CPU chooses : rock\n",
      "User won the play!\n",
      "User score : 1\n",
      "CPU score : 0\n",
      "the game continues\n",
      "Please input rock, paper or scissors: rock\n",
      "Valid choice\n",
      "player chooses : rock\n",
      "CPU chooses : paper\n",
      "CPU won the play!\n",
      "User score : 1\n",
      "CPU score : 1\n",
      "the game continues\n",
      "Please input rock, paper or scissors: scissors\n",
      "Valid choice\n",
      "player chooses : scissors\n",
      "CPU chooses : scissors\n",
      "it is a tie\n",
      "User score : 1\n",
      "CPU score : 1\n",
      "the game continues\n",
      "Please input rock, paper or scissors: rock\n",
      "Valid choice\n",
      "player chooses : rock\n",
      "CPU chooses : scissors\n",
      "User won the play!\n",
      "User score : 2\n",
      "CPU score : 1\n",
      "User won the game!\n"
     ]
    }
   ],
   "source": [
    "   cpu_score = 0\n",
    "    player_score = 0\n",
    "    player_input = None\n",
    "    while True:\n",
    "        player_input = input(\"Please input rock, paper or scissors: \")\n",
    "        if player_input in gestures:\n",
    "            print('Valid choice')\n",
    "        else:\n",
    "            print('Invalid input, try again')\n",
    "        \n",
    "        cpu_input = choice(gestures)\n",
    "    \n",
    "        print('player chooses :',player_input)\n",
    "        print('CPU chooses :',cpu_input)\n",
    "    \n",
    "        if player_input == 'rock' and cpu_input == 'scissors':\n",
    "            player_score += 1\n",
    "            print('User won the play!')\n",
    "        elif player_input == 'scissors' and cpu_input == 'paper':\n",
    "            player_score += 1\n",
    "            print('User won the play!')\n",
    "        elif player_input == 'paper' and cpu_input == 'rock':\n",
    "            player_score += 1\n",
    "            print('User won the play!')\n",
    "        elif player_input == cpu_input:\n",
    "            player_score += 0\n",
    "            print('it is a tie')\n",
    "        else :\n",
    "            cpu_score += 1\n",
    "            print('CPU won the play!')\n",
    "\n",
    "        print('User score :',player_score)\n",
    "        print('CPU score :',cpu_score)\n",
    "        \n",
    "        if player_score == 2 :\n",
    "            print('User won the game!')\n",
    "            break\n",
    "        if cpu_score == 2 :\n",
    "            print('CPU won the game!')\n",
    "            break\n",
    "        else:\n",
    "            print('the game continues')"
   ]
  },
  {
   "cell_type": "markdown",
   "metadata": {},
   "source": [
    "# Bonus: Rock, Paper, Scissors, Lizard & Spock\n",
    "![](images/rpsls.jpg)\n",
    "\n",
    "In this challenge, you need to improve the previous game by adding two new options. To know more about the rules of the improved version of rock, paper, scissors, check this [link](http://www.samkass.com/theories/RPSSL.html). \n",
    "\n",
    "In addition, you will also need to improve how the game interacts with the player: the number of rounds to play, which must be an odd number, will be requested to the user until a valid number is entered. Define a new function to make that request.\n",
    "\n",
    "**Hint**: Try to reuse the code that you already coded in the previous challenge. If your code is efficient, this bonus will only consist of simple modifications to the original game."
   ]
  },
  {
   "cell_type": "code",
   "execution_count": null,
   "metadata": {},
   "outputs": [],
   "source": []
  }
 ],
 "metadata": {
  "kernelspec": {
   "display_name": "Python 3",
   "language": "python",
   "name": "python3"
  },
  "language_info": {
   "codemirror_mode": {
    "name": "ipython",
    "version": 3
   },
   "file_extension": ".py",
   "mimetype": "text/x-python",
   "name": "python",
   "nbconvert_exporter": "python",
   "pygments_lexer": "ipython3",
   "version": "3.9.5"
  }
 },
 "nbformat": 4,
 "nbformat_minor": 2
}
